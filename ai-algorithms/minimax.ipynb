{
  "cells": [
    {
      "cell_type": "markdown",
      "source": [
        "# Ćwiczenie 3\n",
        "\n",
        "Celem ćwiczenia jest imlementacja metody [Minimax z obcinaniem alpha-beta](https://en.wikipedia.org/wiki/Alpha%E2%80%93beta_pruning) do gry Connect Four (czwórki).\n",
        "\n",
        "W trakcie ćwiczenia można skorzystać z reposytorium z implementacją gry [Connect Four udostępnionym przez Jakuba Łyskawę](https://github.com/lychanl/two-player-games). Ewentualnie, można zaimplementować samemu grę Connect Four (ale, tak aby rozwiązanie miało ten sam interfejs co podany poniżej).\n",
        "\n",
        "Implementację Minimax należy przetestować używając różną głębokość przeszukiwania. Implementacja Solvera musi zapewniać interfejs jak poniżej, ale można dodać dowolne metody prywatne oraz klasy wspomagające (jeżeli będą potrzebne).\n",
        "\n",
        "Punktacja:\n",
        "- Działająca metoda Minimax - **2 pkt**\n",
        "- Działająca metoda Minimax z obcinaniem alpha-beta - **1.5 pkt**\n",
        "- Analiza jakości solvera w zależności od głębokości przeszukiwania **1.5pkt**\n",
        "    - można zaimplementować w tym celu wizualizację rozgrywki dwóch agentów, bądź kilka przykładów 'z ręki'\n",
        "- Jakość kodu **2pkt**"
      ],
      "metadata": {
        "collapsed": false
      }
    },
    {
      "cell_type": "markdown",
      "source": [
        "Aby importowanie elementów z poniższej komórki działało należy umieścić tego notebooka w tym samym folderze co paczkę `two_player_games`:\n",
        "```\n",
        "├── LICENSE\n",
        "├── README.md\n",
        "├── minimax.ipynb # HERE\n",
        "├── test\n",
        "│   ├── __init__.py\n",
        "│   ├── test_connect_four.py\n",
        "│   ├── test_dots_and_boxes.py\n",
        "│   └── test_pick.py\n",
        "└── two_player_games\n",
        "    ├── __init__.py\n",
        "    ├── games\n",
        "    │   ├── connect_four.py\n",
        "    │   └── dots_and_boxes.py\n",
        "    ├── move.py\n",
        "    ├── player.py\n",
        "    └── state.py\n",
        "```"
      ],
      "metadata": {
        "collapsed": false
      }
    },
    {
      "cell_type": "code",
      "source": [
        "from typing import Tuple, List\n",
        "from copy import deepcopy\n",
        "import math\n",
        "from random import choice, shuffle\n",
        "from two_player_games.player import Player\n",
        "from two_player_games.games.connect_four import ConnectFour, ConnectFourMove"
      ],
      "outputs": [],
      "execution_count": 2,
      "metadata": {
        "collapsed": true
      }
    },
    {
      "cell_type": "markdown",
      "source": [
        "Wielkość planszy"
      ],
      "metadata": {
        "collapsed": false
      }
    },
    {
      "cell_type": "code",
      "source": [
        "ROW_COUNT = 6\n",
        "COLUMN_COUNT = 7\n",
        "\n",
        "evaluationTable = [[3, 4, 5, 7, 5, 4, 3], \n",
        "                    [4, 6, 8, 10, 8, 6, 4],\n",
        "                    [5, 8, 11, 13, 11, 8, 5], \n",
        "                    [5, 8, 11, 13, 11, 8, 5],\n",
        "                    [4, 6, 8, 10, 8, 6, 4],\n",
        "                    [3, 4, 5, 7, 5, 4, 3]]"
      ],
      "outputs": [],
      "execution_count": 3,
      "metadata": {
        "collapsed": false
      }
    },
    {
      "cell_type": "code",
      "source": [
        "class MinMaxSolver:\n",
        "\n",
        "    def __init__(self, game: ConnectFour):\n",
        "        self.game = game\n",
        "\n",
        "    def evaluate_position(self, state)->float:\n",
        "        check_win = state.get_winner()\n",
        "        if check_win:\n",
        "            if check_win.char != state.get_current_player().char:\n",
        "                return 1\n",
        "            return -1\n",
        "        return 0\n",
        "    \n",
        "    def evaluate_position_1(self, state)->float:\n",
        "        player = state.get_current_player()\n",
        "        board = state.state.fields\n",
        "        score = 0\n",
        "        utility = 138\n",
        "        for ii in range(COLUMN_COUNT):\n",
        "            for kk in range(ROW_COUNT):\n",
        "                if board[ii][kk]:\n",
        "                    if board[ii][kk].char == player.char:\n",
        "                        score += evaluationTable[kk][ii]\n",
        "                    else:\n",
        "                        score -= evaluationTable[kk][ii]\n",
        "        return (utility + score)\n",
        "\n",
        "\n",
        "    def minimax(self, depth, state, is_maximizing_player:bool)-> Tuple[int, float]:\n",
        "        \"\"\"Returns column index and score\"\"\"\n",
        "        if depth == 0 or state.is_finished():\n",
        "            return (None, self.evaluate_position(state))\n",
        "        \n",
        "        if is_maximizing_player:\n",
        "            pos_moves = self._get_valid_locations(state)\n",
        "            value = -math.inf\n",
        "            column = choice(pos_moves)\n",
        "            for move in pos_moves:\n",
        "                next_state = deepcopy(state)\n",
        "                next_state.make_move(ConnectFourMove(move))\n",
        "                new_value = self.minimax(depth-1, next_state, False)[1]\n",
        "                if new_value > value:\n",
        "                    value = new_value\n",
        "                    column = move\n",
        "        else:\n",
        "            pos_moves = self._get_valid_locations(state)\n",
        "            value = math.inf\n",
        "            column = choice(pos_moves)\n",
        "            for move in pos_moves:\n",
        "                pos_moves = self._get_valid_locations(state)\n",
        "                next_state = deepcopy(state)\n",
        "                next_state.make_move(ConnectFourMove(move))\n",
        "                new_value = self.minimax(depth-1, next_state, True)[1]\n",
        "                if new_value < value:\n",
        "                    value = new_value\n",
        "                    column = move\n",
        "        return (column, value)    \n",
        "    \n",
        "    def minimax_alfa_beta(self, depth, state, alpha, beta, is_maximizing_player:bool):\n",
        "\n",
        "        if state.is_finished() or depth == 0:\n",
        "            return (None, self.evaluate_position(state))\n",
        "        \n",
        "        if is_maximizing_player:\n",
        "            pos_moves = self._get_valid_locations(state)\n",
        "            shuffle(pos_moves)\n",
        "            value = -math.inf\n",
        "            column = choice(pos_moves)\n",
        "            for move in pos_moves:\n",
        "                pos_moves = self._get_valid_locations(state)\n",
        "                next_state = deepcopy(state)\n",
        "                next_state.make_move(ConnectFourMove(move))\n",
        "                new_value = self.minimax_alfa_beta(depth-1, next_state, alpha, beta, False)[1]\n",
        "                if new_value > value:\n",
        "                    value = new_value\n",
        "                    column = move\n",
        "                alpha = max(alpha, value)\n",
        "                if alpha >= beta:\n",
        "                    break\n",
        "        else:\n",
        "            pos_moves = self._get_valid_locations(state)\n",
        "            shuffle(pos_moves)\n",
        "            value = math.inf\n",
        "            column = choice(pos_moves)\n",
        "            for move in pos_moves:\n",
        "                next_state = deepcopy(state)\n",
        "                next_state.make_move(ConnectFourMove(move))\n",
        "                new_value = self.minimax_alfa_beta(depth-1, next_state, alpha, beta, True)[1]\n",
        "                if new_value < value:\n",
        "                    value = new_value\n",
        "                    column = move\n",
        "                beta = min(beta, value)\n",
        "                if alpha >= beta:\n",
        "                    break\n",
        "        return (column, value)\n",
        "\n",
        "    def _get_valid_locations(self, state)->List[int]:\n",
        "        return [move.column for move in state.get_moves()] # dziala\n",
        "\n",
        "    def _is_valid_move(self, state,  col_index:int)->bool:\n",
        "        if state[col_index[-1]] is None:\n",
        "            return True\n",
        "        return False"
      ],
      "outputs": [],
      "execution_count": 4,
      "metadata": {
        "collapsed": false
      }
    },
    {
      "cell_type": "markdown",
      "source": [
        "Rozgrywka"
      ],
      "metadata": {
        "collapsed": false
      }
    },
    {
      "cell_type": "code",
      "source": [
        "p1 = Player(\"a\")\n",
        "p2 = Player(\"b\")\n",
        "game = ConnectFour(size=(COLUMN_COUNT, ROW_COUNT), first_player=p1, second_player=p2)\n",
        "solver = MinMaxSolver(game)\n",
        "is_max = False\n",
        "\n",
        "'''game.make_move(ConnectFourMove(0))\n",
        "game.make_move(ConnectFourMove(1))\n",
        "game.make_move(ConnectFourMove(2))\n",
        "game.make_move(ConnectFourMove(5))\n",
        "game.make_move(ConnectFourMove(6))\n",
        "game.make_move(ConnectFourMove(4))\n",
        "game.make_move(ConnectFourMove(1))\n",
        "game.make_move(ConnectFourMove(0))\n",
        "game.make_move(ConnectFourMove(0))\n",
        "game.make_move(ConnectFourMove(2))\n",
        "game.make_move(ConnectFourMove(1))\n",
        "game.make_move(ConnectFourMove(6))\n",
        "game.make_move(ConnectFourMove(4))\n",
        "game.make_move(ConnectFourMove(3))'''\n",
        "\n",
        "#game.make_move(ConnectFourMove(3))\n",
        "#game.make_move(ConnectFourMove(4))\n",
        "#game.make_move(ConnectFourMove(3))\n",
        "#game.make_move(ConnectFourMove(4))\n",
        "#game.make_move(ConnectFourMove(3))\n",
        "#game.make_move(ConnectFourMove(0))\n",
        "\n",
        "'''game.make_move(ConnectFourMove(3))\n",
        "game.make_move(ConnectFourMove(4))\n",
        "game.make_move(ConnectFourMove(3))\n",
        "game.make_move(ConnectFourMove(5))'''\n",
        "\n",
        "\n",
        "solver = MinMaxSolver(game)\n",
        "'''print(game)\n",
        "next_move = solver.minimax_alfa_beta(5, game, -200, 200, True)\n",
        "print(next_move)\n",
        "if next_move[0] is not None:\n",
        "    game.make_move(ConnectFourMove(next_move[0]))\n",
        "print(game)'''\n",
        "\n",
        "while(not game.is_finished()):\n",
        "    solver.minimax_alfa_beta(5, game, -300, 300, True)\n",
        "    next_move = solver.minimax_alfa_beta(5, game, -200, 200, True)\n",
        "    if next_move[0] is not None:\n",
        "        game.make_move(ConnectFourMove(next_move[0]))\n",
        "    next_move = solver.minimax_alfa_beta(3, game, -200, 200, True)\n",
        "    if next_move[0] is not None:\n",
        "        game.make_move(ConnectFourMove(next_move[0]))\n",
        "print(game)"
      ],
      "outputs": [
        {
          "output_type": "stream",
          "name": "stdout",
          "text": "Current player: b\n[b][ ][b][ ][ ][ ][ ]\n[a][ ][a][ ][ ][ ][a]\n[b][a][b][b][ ][b][b]\n[a][a][a][b][ ][a][a]\n[b][a][b][a][ ][b][a]\n[a][b][b][a][ ][a][b]\n"
        }
      ],
      "execution_count": 9,
      "metadata": {
        "collapsed": false
      }
    },
    {
      "cell_type": "markdown",
      "source": [],
      "metadata": {}
    }
  ],
  "metadata": {
    "kernelspec": {
      "display_name": "Python 3.10.8 64-bit",
      "language": "python",
      "name": "python3"
    },
    "language_info": {
      "codemirror_mode": {
        "name": "ipython",
        "version": 3
      },
      "file_extension": ".py",
      "mimetype": "text/x-python",
      "name": "python",
      "nbconvert_exporter": "python",
      "pygments_lexer": "ipython3",
      "version": "3.10.8"
    },
    "vscode": {
      "interpreter": {
        "hash": "4e366797c44d55d7b8af0fe26adc67586513a2ef00b27b65e56af38c90f4fb4c"
      }
    },
    "nteract": {
      "version": "nteract-front-end@1.0.0"
    }
  },
  "nbformat": 4,
  "nbformat_minor": 0
}